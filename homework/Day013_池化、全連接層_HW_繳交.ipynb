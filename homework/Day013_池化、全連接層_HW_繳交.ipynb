{
  "nbformat": 4,
  "nbformat_minor": 0,
  "metadata": {
    "colab": {
      "name": "Day013_池化、全連接層_HW.ipynb",
      "provenance": []
    },
    "kernelspec": {
      "display_name": "Python 3",
      "language": "python",
      "name": "python3"
    },
    "language_info": {
      "codemirror_mode": {
        "name": "ipython",
        "version": 3
      },
      "file_extension": ".py",
      "mimetype": "text/x-python",
      "name": "python",
      "nbconvert_exporter": "python",
      "pygments_lexer": "ipython3",
      "version": "3.6.7"
    }
  },
  "cells": [
    {
      "cell_type": "markdown",
      "metadata": {
        "id": "SHHeVZ9QcnB3",
        "colab_type": "text"
      },
      "source": [
        "## 『作業內容』\n",
        "####   依照指示，搭建Maxpooling層與全連接層"
      ]
    },
    {
      "cell_type": "markdown",
      "metadata": {
        "id": "E676RuhEcnB4",
        "colab_type": "text"
      },
      "source": [
        "## 『目標』\n",
        "####   了解Maxpooling的原理與CNN、FC層連結的方式"
      ]
    },
    {
      "cell_type": "code",
      "metadata": {
        "id": "aM1-SnCHcnB5",
        "colab_type": "code",
        "colab": {}
      },
      "source": [
        "from keras.models import Sequential  #用來啟動 NN\n",
        "from keras.layers import Conv2D  # Convolution Operation\n",
        "from keras.layers import MaxPooling2D # Pooling\n",
        "from keras.layers import Flatten\n",
        "from keras.layers import Dense # Fully Connected Networks\n",
        "from keras.layers import GlobalAveragePooling2D"
      ],
      "execution_count": 5,
      "outputs": []
    },
    {
      "cell_type": "code",
      "metadata": {
        "colab_type": "code",
        "id": "43xxX0yJxiDr",
        "colab": {}
      },
      "source": [
        "input_shape = (32, 32, 3)\n",
        "\n",
        "model = Sequential()\n",
        "\n",
        "model.add(Conv2D(32, kernel_size=(3, 3), padding='same',input_shape=input_shape))\n",
        "model.add(MaxPooling2D(pool_size=(2,2),strides=(2,2)))  ##pooling_size=2,2 strides=2,2 輸出feature map 大小為多少？\n",
        "\n",
        "model.add(Conv2D(64, kernel_size=(3, 3), padding='same'))\n",
        "model.add(MaxPooling2D(pool_size=(2,2),strides=(2,2)))##pooling_size=2,2 strides=2,2 輸出feature map 大小為多少？\n",
        "\n",
        "model.add(Conv2D(128, kernel_size=(3, 3), padding='same'))\n",
        "model.add(MaxPooling2D(pool_size=(2,2),strides=(2,2)))##pooling_size=1,1 strides=1,1 輸出feature map 大小為多少？\n",
        "\n",
        "model.add(Conv2D(10, kernel_size=(3, 3), padding='same'))\n",
        "model.add(Flatten()) ##Flatten完尺寸如何變化？\n",
        "#model.add(GlobalAveragePooling2D()) #關掉Flatten，使用GlobalAveragePooling2D，完尺寸如何變化？\n",
        "\n",
        "model.add(Dense(units=28)) ##全連接層使用28個units"
      ],
      "execution_count": 12,
      "outputs": []
    },
    {
      "cell_type": "code",
      "metadata": {
        "colab_type": "code",
        "id": "nFgU3mB-xiDt",
        "colab": {
          "base_uri": "https://localhost:8080/",
          "height": 454
        },
        "outputId": "45f9cefd-7358-429d-cf9a-9719a50c6309"
      },
      "source": [
        "model.summary()"
      ],
      "execution_count": 13,
      "outputs": [
        {
          "output_type": "stream",
          "text": [
            "Model: \"sequential_6\"\n",
            "_________________________________________________________________\n",
            "Layer (type)                 Output Shape              Param #   \n",
            "=================================================================\n",
            "conv2d_21 (Conv2D)           (None, 32, 32, 32)        896       \n",
            "_________________________________________________________________\n",
            "max_pooling2d_16 (MaxPooling (None, 16, 16, 32)        0         \n",
            "_________________________________________________________________\n",
            "conv2d_22 (Conv2D)           (None, 16, 16, 64)        18496     \n",
            "_________________________________________________________________\n",
            "max_pooling2d_17 (MaxPooling (None, 8, 8, 64)          0         \n",
            "_________________________________________________________________\n",
            "conv2d_23 (Conv2D)           (None, 8, 8, 128)         73856     \n",
            "_________________________________________________________________\n",
            "max_pooling2d_18 (MaxPooling (None, 4, 4, 128)         0         \n",
            "_________________________________________________________________\n",
            "conv2d_24 (Conv2D)           (None, 4, 4, 10)          11530     \n",
            "_________________________________________________________________\n",
            "flatten_2 (Flatten)          (None, 160)               0         \n",
            "_________________________________________________________________\n",
            "dense_5 (Dense)              (None, 28)                4508      \n",
            "=================================================================\n",
            "Total params: 109,286\n",
            "Trainable params: 109,286\n",
            "Non-trainable params: 0\n",
            "_________________________________________________________________\n"
          ],
          "name": "stdout"
        }
      ]
    },
    {
      "cell_type": "code",
      "metadata": {
        "id": "vWsFgwEscnCB",
        "colab_type": "code",
        "colab": {}
      },
      "source": [
        "input_shape = (32, 32, 3)\n",
        "\n",
        "model = Sequential()\n",
        "\n",
        "model.add(Conv2D(32, kernel_size=(3, 3), padding='same',input_shape=input_shape))\n",
        "model.add(MaxPooling2D(pool_size=(2,2),strides=(2,2)))  ##pooling_size=2,2 strides=2,2 輸出feature map 大小為多少？\n",
        "\n",
        "model.add(Conv2D(64, kernel_size=(3, 3), padding='same'))\n",
        "model.add(MaxPooling2D(pool_size=(2,2),strides=(2,2)))##pooling_size=2,2 strides=2,2 輸出feature map 大小為多少？\n",
        "\n",
        "model.add(Conv2D(128, kernel_size=(3, 3), padding='same'))\n",
        "model.add(MaxPooling2D(pool_size=(2,2),strides=(2,2)))##pooling_size=1,1 strides=1,1 輸出feature map 大小為多少？\n",
        "\n",
        "model.add(Conv2D(10, kernel_size=(3, 3), padding='same'))\n",
        "#model.add(Flatten()) ##Flatten完尺寸如何變化？\n",
        "model.add(GlobalAveragePooling2D()) #關掉Flatten，使用GlobalAveragePooling2D，完尺寸如何變化？\n",
        "\n",
        "model.add(Dense(units=28))"
      ],
      "execution_count": 14,
      "outputs": []
    },
    {
      "cell_type": "code",
      "metadata": {
        "id": "BJRemZrXeCsJ",
        "colab_type": "code",
        "colab": {
          "base_uri": "https://localhost:8080/",
          "height": 454
        },
        "outputId": "f1bc0eec-6d4e-4d80-ef7f-00c3cb13ddd4"
      },
      "source": [
        "model.summary()"
      ],
      "execution_count": 15,
      "outputs": [
        {
          "output_type": "stream",
          "text": [
            "Model: \"sequential_7\"\n",
            "_________________________________________________________________\n",
            "Layer (type)                 Output Shape              Param #   \n",
            "=================================================================\n",
            "conv2d_25 (Conv2D)           (None, 32, 32, 32)        896       \n",
            "_________________________________________________________________\n",
            "max_pooling2d_19 (MaxPooling (None, 16, 16, 32)        0         \n",
            "_________________________________________________________________\n",
            "conv2d_26 (Conv2D)           (None, 16, 16, 64)        18496     \n",
            "_________________________________________________________________\n",
            "max_pooling2d_20 (MaxPooling (None, 8, 8, 64)          0         \n",
            "_________________________________________________________________\n",
            "conv2d_27 (Conv2D)           (None, 8, 8, 128)         73856     \n",
            "_________________________________________________________________\n",
            "max_pooling2d_21 (MaxPooling (None, 4, 4, 128)         0         \n",
            "_________________________________________________________________\n",
            "conv2d_28 (Conv2D)           (None, 4, 4, 10)          11530     \n",
            "_________________________________________________________________\n",
            "global_average_pooling2d_4 ( (None, 10)                0         \n",
            "_________________________________________________________________\n",
            "dense_6 (Dense)              (None, 28)                308       \n",
            "=================================================================\n",
            "Total params: 105,086\n",
            "Trainable params: 105,086\n",
            "Non-trainable params: 0\n",
            "_________________________________________________________________\n"
          ],
          "name": "stdout"
        }
      ]
    },
    {
      "cell_type": "code",
      "metadata": {
        "id": "uN7ZqEX6eXwv",
        "colab_type": "code",
        "colab": {}
      },
      "source": [
        ""
      ],
      "execution_count": null,
      "outputs": []
    }
  ]
}