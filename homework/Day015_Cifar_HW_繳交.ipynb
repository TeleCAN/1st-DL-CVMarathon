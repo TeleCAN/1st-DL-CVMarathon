{
  "nbformat": 4,
  "nbformat_minor": 0,
  "metadata": {
    "kernelspec": {
      "display_name": "Python 3",
      "language": "python",
      "name": "python3"
    },
    "language_info": {
      "codemirror_mode": {
        "name": "ipython",
        "version": 3
      },
      "file_extension": ".py",
      "mimetype": "text/x-python",
      "name": "python",
      "nbconvert_exporter": "python",
      "pygments_lexer": "ipython3",
      "version": "3.6.7"
    },
    "colab": {
      "name": "Day015_Cifar_HW.ipynb",
      "provenance": []
    },
    "accelerator": "GPU"
  },
  "cells": [
    {
      "cell_type": "markdown",
      "metadata": {
        "id": "z7xC1XXx9HHB",
        "colab_type": "text"
      },
      "source": [
        "## 『本次練習內容』\n",
        "#### 運用這幾天所學觀念搭建一個CNN分類器"
      ]
    },
    {
      "cell_type": "markdown",
      "metadata": {
        "id": "MQZhjCpk9HHC",
        "colab_type": "text"
      },
      "source": [
        "## 『本次練習目的』\n",
        "  #### 熟悉CNN分類器搭建步驟與原理\n",
        "  #### 學員們可以嘗試不同搭法，如使用不同的Maxpooling層，用GlobalAveragePooling取代Flatten等等"
      ]
    },
    {
      "cell_type": "code",
      "metadata": {
        "id": "On9-3g5Q9HHD",
        "colab_type": "code",
        "colab": {
          "base_uri": "https://localhost:8080/",
          "height": 34
        },
        "outputId": "4783dd95-43dd-4f98-bc3c-faca719343bc"
      },
      "source": [
        "from keras.models import Sequential\n",
        "from keras.layers import Convolution2D\n",
        "from keras.layers import MaxPooling2D\n",
        "from keras.layers import Flatten\n",
        "from keras.layers import Dense\n",
        "from keras.layers import Dropout\n",
        "from keras.layers import BatchNormalization\n",
        "from keras.datasets import cifar10\n",
        "import numpy as np\n",
        "import tensorflow as tf\n",
        "from sklearn.preprocessing import OneHotEncoder\n"
      ],
      "execution_count": 1,
      "outputs": [
        {
          "output_type": "stream",
          "text": [
            "Using TensorFlow backend.\n"
          ],
          "name": "stderr"
        }
      ]
    },
    {
      "cell_type": "code",
      "metadata": {
        "id": "eNTn1g0K9HHI",
        "colab_type": "code",
        "colab": {
          "base_uri": "https://localhost:8080/",
          "height": 67
        },
        "outputId": "58e6713e-b5eb-4719-a311-c6e0ce19971b"
      },
      "source": [
        "(x_train, y_train), (x_test, y_test) = cifar10.load_data()\n",
        "\n",
        "print(x_train.shape) #(50000, 32, 32, 3)\n",
        "\n",
        "## Normalize Data\n",
        "def normalize(X_train,X_test):\n",
        "        mean = np.mean(X_train,axis=(0,1,2,3))\n",
        "        std = np.std(X_train, axis=(0, 1, 2, 3))\n",
        "        X_train = (X_train-mean)/(std+1e-7)\n",
        "        X_test = (X_test-mean)/(std+1e-7) \n",
        "        return X_train, X_test,mean,std\n",
        "    \n",
        "    \n",
        "## Normalize Training and Testset    \n",
        "x_train, x_test,mean_train,std_train = normalize(x_train, x_test) "
      ],
      "execution_count": 2,
      "outputs": [
        {
          "output_type": "stream",
          "text": [
            "Downloading data from https://www.cs.toronto.edu/~kriz/cifar-10-python.tar.gz\n",
            "170500096/170498071 [==============================] - 6s 0us/step\n",
            "(50000, 32, 32, 3)\n"
          ],
          "name": "stdout"
        }
      ]
    },
    {
      "cell_type": "code",
      "metadata": {
        "id": "MyWPufZi9HHK",
        "colab_type": "code",
        "colab": {}
      },
      "source": [
        "# 將分類的項目以one hot encoding來表達\n",
        "## OneHot Label 由(None, 1)-(None, 10)\n",
        "## ex. label=2,變成[0,0,1,0,0,0,0,0,0,0]\n",
        "one_hot=OneHotEncoder()\n",
        "y_train=one_hot.fit_transform(y_train).toarray()\n",
        "y_test=one_hot.transform(y_test).toarray()"
      ],
      "execution_count": 4,
      "outputs": []
    },
    {
      "cell_type": "code",
      "metadata": {
        "id": "aGc3IdNS9HHN",
        "colab_type": "code",
        "colab": {
          "base_uri": "https://localhost:8080/",
          "height": 1000
        },
        "outputId": "ceac317a-caf5-4235-f776-b53d9a569c75"
      },
      "source": [
        "\n",
        "classifier=Sequential()\n",
        "\n",
        "#卷積組合\n",
        "classifier.add(Convolution2D(filters=32,kernel_size=(3,3),strides=(1,1),\n",
        "                             padding='same',input_shape = (32,32,3),activation='relu'))\n",
        "#32,3,3,input_shape=(32,32,3),activation='relu''\n",
        "classifier.add(BatchNormalization())\n",
        "\n",
        "'''自己決定MaxPooling2D放在哪裡'''\n",
        "#classifier.add(MaxPooling2D(pool_size=(2,2)))\n",
        "\n",
        "#卷積組合\n",
        "classifier.add(Convolution2D(filters=32,kernel_size=(3,3),strides=(1,1),\n",
        "                             padding='same',input_shape = (32,32,3),activation='relu'))\n",
        "classifier.add(BatchNormalization())\n",
        "\n",
        "'''自己決定MaxPooling2D放在哪裡'''\n",
        "classifier.add(MaxPooling2D(pool_size=(2,2)))\n",
        "\n",
        "#flatten\n",
        "classifier.add(Flatten())\n",
        "\n",
        "#FC\n",
        "classifier.add(Dense(units=100,activation='relu')) #output_dim=100,activation=relu\n",
        "\n",
        "#輸出\n",
        "classifier.add(Dense(output_dim=10,activation='softmax'))\n",
        "\n",
        "#超過兩個就要選categorical_crossentrophy\n",
        "classifier.compile(optimizer = 'adam', loss = 'categorical_crossentropy', metrics = ['accuracy'])\n",
        "classifier.fit(x_train,y_train,batch_size=100,epochs=100)"
      ],
      "execution_count": 5,
      "outputs": [
        {
          "output_type": "stream",
          "text": [
            "/usr/local/lib/python3.6/dist-packages/ipykernel_launcher.py:28: UserWarning: Update your `Dense` call to the Keras 2 API: `Dense(activation=\"softmax\", units=10)`\n"
          ],
          "name": "stderr"
        },
        {
          "output_type": "stream",
          "text": [
            "Epoch 1/100\n",
            "50000/50000 [==============================] - 12s 239us/step - loss: 1.3704 - accuracy: 0.5185\n",
            "Epoch 2/100\n",
            "50000/50000 [==============================] - 6s 111us/step - loss: 0.9561 - accuracy: 0.6614\n",
            "Epoch 3/100\n",
            "50000/50000 [==============================] - 6s 111us/step - loss: 0.7865 - accuracy: 0.7232\n",
            "Epoch 4/100\n",
            "50000/50000 [==============================] - 5s 110us/step - loss: 0.6527 - accuracy: 0.7722\n",
            "Epoch 5/100\n",
            "50000/50000 [==============================] - 5s 110us/step - loss: 0.5284 - accuracy: 0.8141\n",
            "Epoch 6/100\n",
            "50000/50000 [==============================] - 6s 110us/step - loss: 0.4181 - accuracy: 0.8540\n",
            "Epoch 7/100\n",
            "50000/50000 [==============================] - 6s 111us/step - loss: 0.3184 - accuracy: 0.8895\n",
            "Epoch 8/100\n",
            "50000/50000 [==============================] - 6s 110us/step - loss: 0.2390 - accuracy: 0.9177\n",
            "Epoch 9/100\n",
            "50000/50000 [==============================] - 5s 109us/step - loss: 0.1757 - accuracy: 0.9388\n",
            "Epoch 10/100\n",
            "50000/50000 [==============================] - 5s 110us/step - loss: 0.1469 - accuracy: 0.9495\n",
            "Epoch 11/100\n",
            "50000/50000 [==============================] - 5s 110us/step - loss: 0.1251 - accuracy: 0.9567\n",
            "Epoch 12/100\n",
            "50000/50000 [==============================] - 5s 109us/step - loss: 0.1063 - accuracy: 0.9629\n",
            "Epoch 13/100\n",
            "50000/50000 [==============================] - 6s 111us/step - loss: 0.0983 - accuracy: 0.9663\n",
            "Epoch 14/100\n",
            "50000/50000 [==============================] - 6s 114us/step - loss: 0.0843 - accuracy: 0.9710\n",
            "Epoch 15/100\n",
            "50000/50000 [==============================] - 6s 111us/step - loss: 0.0897 - accuracy: 0.9689\n",
            "Epoch 16/100\n",
            "50000/50000 [==============================] - 5s 109us/step - loss: 0.0785 - accuracy: 0.9733\n",
            "Epoch 17/100\n",
            "50000/50000 [==============================] - 6s 110us/step - loss: 0.0573 - accuracy: 0.9800\n",
            "Epoch 18/100\n",
            "50000/50000 [==============================] - 6s 110us/step - loss: 0.0608 - accuracy: 0.9797\n",
            "Epoch 19/100\n",
            "50000/50000 [==============================] - 6s 110us/step - loss: 0.0726 - accuracy: 0.9759\n",
            "Epoch 20/100\n",
            "50000/50000 [==============================] - 6s 110us/step - loss: 0.0644 - accuracy: 0.9791\n",
            "Epoch 21/100\n",
            "50000/50000 [==============================] - 6s 111us/step - loss: 0.0490 - accuracy: 0.9836\n",
            "Epoch 22/100\n",
            "50000/50000 [==============================] - 6s 111us/step - loss: 0.0519 - accuracy: 0.9830\n",
            "Epoch 23/100\n",
            "50000/50000 [==============================] - 6s 110us/step - loss: 0.0504 - accuracy: 0.9827\n",
            "Epoch 24/100\n",
            "50000/50000 [==============================] - 5s 110us/step - loss: 0.0447 - accuracy: 0.9845\n",
            "Epoch 25/100\n",
            "50000/50000 [==============================] - 5s 110us/step - loss: 0.0583 - accuracy: 0.9809\n",
            "Epoch 26/100\n",
            "50000/50000 [==============================] - 5s 110us/step - loss: 0.0490 - accuracy: 0.9836\n",
            "Epoch 27/100\n",
            "50000/50000 [==============================] - 6s 110us/step - loss: 0.0402 - accuracy: 0.9863\n",
            "Epoch 28/100\n",
            "50000/50000 [==============================] - 6s 110us/step - loss: 0.0433 - accuracy: 0.9863\n",
            "Epoch 29/100\n",
            "50000/50000 [==============================] - 6s 110us/step - loss: 0.0375 - accuracy: 0.9866\n",
            "Epoch 30/100\n",
            "50000/50000 [==============================] - 6s 110us/step - loss: 0.0346 - accuracy: 0.9889\n",
            "Epoch 31/100\n",
            "50000/50000 [==============================] - 5s 110us/step - loss: 0.0497 - accuracy: 0.9836\n",
            "Epoch 32/100\n",
            "50000/50000 [==============================] - 6s 110us/step - loss: 0.0480 - accuracy: 0.9849\n",
            "Epoch 33/100\n",
            "50000/50000 [==============================] - 6s 110us/step - loss: 0.0349 - accuracy: 0.9882\n",
            "Epoch 34/100\n",
            "50000/50000 [==============================] - 5s 110us/step - loss: 0.0244 - accuracy: 0.9919\n",
            "Epoch 35/100\n",
            "50000/50000 [==============================] - 5s 110us/step - loss: 0.0303 - accuracy: 0.9903\n",
            "Epoch 36/100\n",
            "50000/50000 [==============================] - 6s 111us/step - loss: 0.0436 - accuracy: 0.9860\n",
            "Epoch 37/100\n",
            "50000/50000 [==============================] - 6s 110us/step - loss: 0.0323 - accuracy: 0.9898\n",
            "Epoch 38/100\n",
            "50000/50000 [==============================] - 6s 110us/step - loss: 0.0345 - accuracy: 0.9881\n",
            "Epoch 39/100\n",
            "50000/50000 [==============================] - 6s 111us/step - loss: 0.0266 - accuracy: 0.9916\n",
            "Epoch 40/100\n",
            "50000/50000 [==============================] - 6s 110us/step - loss: 0.0295 - accuracy: 0.9906\n",
            "Epoch 41/100\n",
            "50000/50000 [==============================] - 6s 110us/step - loss: 0.0325 - accuracy: 0.9892\n",
            "Epoch 42/100\n",
            "50000/50000 [==============================] - 6s 110us/step - loss: 0.0286 - accuracy: 0.9908\n",
            "Epoch 43/100\n",
            "50000/50000 [==============================] - 5s 110us/step - loss: 0.0314 - accuracy: 0.9899\n",
            "Epoch 44/100\n",
            "50000/50000 [==============================] - 5s 110us/step - loss: 0.0317 - accuracy: 0.9897\n",
            "Epoch 45/100\n",
            "50000/50000 [==============================] - 5s 110us/step - loss: 0.0304 - accuracy: 0.9912\n",
            "Epoch 46/100\n",
            "50000/50000 [==============================] - 5s 110us/step - loss: 0.0264 - accuracy: 0.9914\n",
            "Epoch 47/100\n",
            "50000/50000 [==============================] - 5s 110us/step - loss: 0.0247 - accuracy: 0.9919\n",
            "Epoch 48/100\n",
            "50000/50000 [==============================] - 5s 110us/step - loss: 0.0336 - accuracy: 0.9899\n",
            "Epoch 49/100\n",
            "50000/50000 [==============================] - 5s 110us/step - loss: 0.0274 - accuracy: 0.9917\n",
            "Epoch 50/100\n",
            "50000/50000 [==============================] - 6s 111us/step - loss: 0.0184 - accuracy: 0.9939\n",
            "Epoch 51/100\n",
            "50000/50000 [==============================] - 6s 111us/step - loss: 0.0158 - accuracy: 0.9946\n",
            "Epoch 52/100\n",
            "50000/50000 [==============================] - 6s 110us/step - loss: 0.0223 - accuracy: 0.9926\n",
            "Epoch 53/100\n",
            "50000/50000 [==============================] - 5s 110us/step - loss: 0.0343 - accuracy: 0.9901\n",
            "Epoch 54/100\n",
            "50000/50000 [==============================] - 5s 109us/step - loss: 0.0268 - accuracy: 0.9915\n",
            "Epoch 55/100\n",
            "50000/50000 [==============================] - 5s 110us/step - loss: 0.0215 - accuracy: 0.9928\n",
            "Epoch 56/100\n",
            "50000/50000 [==============================] - 5s 109us/step - loss: 0.0238 - accuracy: 0.9926\n",
            "Epoch 57/100\n",
            "50000/50000 [==============================] - 5s 110us/step - loss: 0.0191 - accuracy: 0.9937\n",
            "Epoch 58/100\n",
            "50000/50000 [==============================] - 6s 111us/step - loss: 0.0214 - accuracy: 0.9933\n",
            "Epoch 59/100\n",
            "50000/50000 [==============================] - 5s 110us/step - loss: 0.0215 - accuracy: 0.9935\n",
            "Epoch 60/100\n",
            "50000/50000 [==============================] - 6s 110us/step - loss: 0.0226 - accuracy: 0.9929\n",
            "Epoch 61/100\n",
            "50000/50000 [==============================] - 6s 110us/step - loss: 0.0205 - accuracy: 0.9936\n",
            "Epoch 62/100\n",
            "50000/50000 [==============================] - 6s 110us/step - loss: 0.0197 - accuracy: 0.9941\n",
            "Epoch 63/100\n",
            "50000/50000 [==============================] - 6s 111us/step - loss: 0.0213 - accuracy: 0.9933\n",
            "Epoch 64/100\n",
            "50000/50000 [==============================] - 5s 109us/step - loss: 0.0219 - accuracy: 0.9931\n",
            "Epoch 65/100\n",
            "50000/50000 [==============================] - 6s 111us/step - loss: 0.0248 - accuracy: 0.9926\n",
            "Epoch 66/100\n",
            "50000/50000 [==============================] - 6s 110us/step - loss: 0.0230 - accuracy: 0.9929\n",
            "Epoch 67/100\n",
            "50000/50000 [==============================] - 5s 109us/step - loss: 0.0148 - accuracy: 0.9949\n",
            "Epoch 68/100\n",
            "50000/50000 [==============================] - 5s 109us/step - loss: 0.0133 - accuracy: 0.9953\n",
            "Epoch 69/100\n",
            "50000/50000 [==============================] - 5s 110us/step - loss: 0.0208 - accuracy: 0.9935\n",
            "Epoch 70/100\n",
            "50000/50000 [==============================] - 6s 114us/step - loss: 0.0250 - accuracy: 0.9929\n",
            "Epoch 71/100\n",
            "50000/50000 [==============================] - 6s 113us/step - loss: 0.0147 - accuracy: 0.9953\n",
            "Epoch 72/100\n",
            "50000/50000 [==============================] - 5s 109us/step - loss: 0.0178 - accuracy: 0.9947\n",
            "Epoch 73/100\n",
            "50000/50000 [==============================] - 5s 109us/step - loss: 0.0169 - accuracy: 0.9945\n",
            "Epoch 74/100\n",
            "50000/50000 [==============================] - 5s 110us/step - loss: 0.0261 - accuracy: 0.9927\n",
            "Epoch 75/100\n",
            "50000/50000 [==============================] - 5s 109us/step - loss: 0.0126 - accuracy: 0.9960\n",
            "Epoch 76/100\n",
            "50000/50000 [==============================] - 5s 110us/step - loss: 0.0169 - accuracy: 0.9949\n",
            "Epoch 77/100\n",
            "50000/50000 [==============================] - 5s 109us/step - loss: 0.0159 - accuracy: 0.9949\n",
            "Epoch 78/100\n",
            "50000/50000 [==============================] - 5s 109us/step - loss: 0.0141 - accuracy: 0.9957\n",
            "Epoch 79/100\n",
            "50000/50000 [==============================] - 5s 110us/step - loss: 0.0199 - accuracy: 0.9940\n",
            "Epoch 80/100\n",
            "50000/50000 [==============================] - 6s 110us/step - loss: 0.0167 - accuracy: 0.9943\n",
            "Epoch 81/100\n",
            "50000/50000 [==============================] - 5s 110us/step - loss: 0.0129 - accuracy: 0.9959\n",
            "Epoch 82/100\n",
            "50000/50000 [==============================] - 5s 109us/step - loss: 0.0131 - accuracy: 0.9960\n",
            "Epoch 83/100\n",
            "50000/50000 [==============================] - 5s 110us/step - loss: 0.0158 - accuracy: 0.9950\n",
            "Epoch 84/100\n",
            "50000/50000 [==============================] - 5s 109us/step - loss: 0.0179 - accuracy: 0.9943\n",
            "Epoch 85/100\n",
            "50000/50000 [==============================] - 6s 110us/step - loss: 0.0145 - accuracy: 0.9957\n",
            "Epoch 86/100\n",
            "50000/50000 [==============================] - 5s 109us/step - loss: 0.0158 - accuracy: 0.9951\n",
            "Epoch 87/100\n",
            "50000/50000 [==============================] - 5s 109us/step - loss: 0.0149 - accuracy: 0.9958\n",
            "Epoch 88/100\n",
            "50000/50000 [==============================] - 5s 109us/step - loss: 0.0168 - accuracy: 0.9954\n",
            "Epoch 89/100\n",
            "50000/50000 [==============================] - 5s 110us/step - loss: 0.0160 - accuracy: 0.9952\n",
            "Epoch 90/100\n",
            "50000/50000 [==============================] - 5s 109us/step - loss: 0.0140 - accuracy: 0.9958\n",
            "Epoch 91/100\n",
            "50000/50000 [==============================] - 5s 110us/step - loss: 0.0139 - accuracy: 0.9957\n",
            "Epoch 92/100\n",
            "50000/50000 [==============================] - 5s 109us/step - loss: 0.0142 - accuracy: 0.9957\n",
            "Epoch 93/100\n",
            "50000/50000 [==============================] - 5s 110us/step - loss: 0.0160 - accuracy: 0.9952\n",
            "Epoch 94/100\n",
            "50000/50000 [==============================] - 6s 110us/step - loss: 0.0158 - accuracy: 0.9953\n",
            "Epoch 95/100\n",
            "50000/50000 [==============================] - 5s 110us/step - loss: 0.0172 - accuracy: 0.9949\n",
            "Epoch 96/100\n",
            "50000/50000 [==============================] - 5s 109us/step - loss: 0.0090 - accuracy: 0.9974\n",
            "Epoch 97/100\n",
            "50000/50000 [==============================] - 5s 109us/step - loss: 0.0147 - accuracy: 0.9955\n",
            "Epoch 98/100\n",
            "50000/50000 [==============================] - 5s 109us/step - loss: 0.0131 - accuracy: 0.9960\n",
            "Epoch 99/100\n",
            "50000/50000 [==============================] - 5s 109us/step - loss: 0.0143 - accuracy: 0.9952\n",
            "Epoch 100/100\n",
            "50000/50000 [==============================] - 5s 109us/step - loss: 0.0122 - accuracy: 0.9963\n"
          ],
          "name": "stdout"
        },
        {
          "output_type": "execute_result",
          "data": {
            "text/plain": [
              "<keras.callbacks.callbacks.History at 0x7fa7b050d908>"
            ]
          },
          "metadata": {
            "tags": []
          },
          "execution_count": 5
        }
      ]
    },
    {
      "cell_type": "markdown",
      "metadata": {
        "id": "H1zNzNGd9HHQ",
        "colab_type": "text"
      },
      "source": [
        "## 預測新圖片，輸入影像前處理要與訓練時相同\n",
        "#### ((X-mean)/(std+1e-7) ):這裡的mean跟std是訓練集的\n",
        "## 維度如下方示範"
      ]
    },
    {
      "cell_type": "code",
      "metadata": {
        "id": "D70Cil1R9HHQ",
        "colab_type": "code",
        "colab": {
          "base_uri": "https://localhost:8080/",
          "height": 67
        },
        "outputId": "f1ae3e3b-e1de-4cba-ad83-5f0201224bbd"
      },
      "source": [
        "input_example=(np.zeros(shape=(1,32,32,3))-mean_train)/(std_train+1e-7) \n",
        "classifier.predict(input_example)"
      ],
      "execution_count": 6,
      "outputs": [
        {
          "output_type": "execute_result",
          "data": {
            "text/plain": [
              "array([[2.82777238e-16, 0.00000000e+00, 8.84503549e-28, 1.00000000e+00,\n",
              "        9.88547243e-13, 0.00000000e+00, 1.50981553e-22, 0.00000000e+00,\n",
              "        0.00000000e+00, 1.15494515e-33]], dtype=float32)"
            ]
          },
          "metadata": {
            "tags": []
          },
          "execution_count": 6
        }
      ]
    },
    {
      "cell_type": "code",
      "metadata": {
        "id": "vbrCKIUUvsZQ",
        "colab_type": "code",
        "colab": {}
      },
      "source": [
        ""
      ],
      "execution_count": null,
      "outputs": []
    }
  ]
}