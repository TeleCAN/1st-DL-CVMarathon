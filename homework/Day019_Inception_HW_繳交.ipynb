{
  "nbformat": 4,
  "nbformat_minor": 0,
  "metadata": {
    "kernelspec": {
      "display_name": "Python 3",
      "language": "python",
      "name": "python3"
    },
    "language_info": {
      "codemirror_mode": {
        "name": "ipython",
        "version": 3
      },
      "file_extension": ".py",
      "mimetype": "text/x-python",
      "name": "python",
      "nbconvert_exporter": "python",
      "pygments_lexer": "ipython3",
      "version": "3.6.7"
    },
    "colab": {
      "name": "Day019_Inception_HW.ipynb",
      "provenance": []
    }
  },
  "cells": [
    {
      "cell_type": "markdown",
      "metadata": {
        "id": "SdHG5VqmZQgi",
        "colab_type": "text"
      },
      "source": [
        "## 『本次練習內容』\n",
        "#### 學習如何搭建Inception Block"
      ]
    },
    {
      "cell_type": "markdown",
      "metadata": {
        "id": "L90WU0ARZQgj",
        "colab_type": "text"
      },
      "source": [
        "## 『本次練習目的』\n",
        "  #### 了解Inceotion原理\n",
        "  #### 了解如何導入Inception block到原本架構中"
      ]
    },
    {
      "cell_type": "markdown",
      "metadata": {
        "id": "RcT8JdwkZQgk",
        "colab_type": "text"
      },
      "source": [
        "---"
      ]
    },
    {
      "cell_type": "markdown",
      "metadata": {
        "id": "dhO-ilEIZQgk",
        "colab_type": "text"
      },
      "source": [
        "![Incpeiton](Inception架構.png)"
      ]
    },
    {
      "cell_type": "code",
      "metadata": {
        "id": "_T0I6HmXZQgl",
        "colab_type": "code",
        "colab": {
          "base_uri": "https://localhost:8080/",
          "height": 34
        },
        "outputId": "f3d625de-1d21-41a3-8a72-5a9ff802bb4c"
      },
      "source": [
        "import numpy as np\n",
        "from keras.models import Model\n",
        "from keras.layers import Flatten\n",
        "from keras.layers import Dense\n",
        "from keras.layers import Input\n",
        "from keras.layers import Conv2D\n",
        "from keras.layers import MaxPooling2D\n",
        "from keras.layers import GlobalMaxPooling2D\n",
        "from keras.layers import GlobalAveragePooling2D\n",
        "from keras import backend as K\n",
        "from keras import layers\n",
        "from keras.layers import BatchNormalization\n",
        "from keras.layers import Activation"
      ],
      "execution_count": 1,
      "outputs": [
        {
          "output_type": "stream",
          "text": [
            "Using TensorFlow backend.\n"
          ],
          "name": "stderr"
        }
      ]
    },
    {
      "cell_type": "markdown",
      "metadata": {
        "id": "d7UawtU_ZQgp",
        "colab_type": "text"
      },
      "source": [
        "## 導入InceptionV2-有BatchNormalization的Convolution"
      ]
    },
    {
      "cell_type": "code",
      "metadata": {
        "id": "DiPm9tSxZQgp",
        "colab_type": "code",
        "colab": {}
      },
      "source": [
        "def Conv2d_bn(x,filters,kernel_size,padding='same',strides=(1, 1),normalizer=True,activation='relu',name=None):\n",
        "    if name is not None:\n",
        "        conv_name = name + '_conv'\n",
        "        bn_name = name + '_bn'\n",
        "        act_name = name + '_act'\n",
        "    else:\n",
        "        conv_name = None\n",
        "        bn_name = None\n",
        "        act_name = None\n",
        "    if K.image_data_format() == 'channels_first':\n",
        "        bn_axis = 1\n",
        "    else:\n",
        "        bn_axis = 3\n",
        "    x = Conv2D(\n",
        "            filters, kernel_size,\n",
        "            strides=strides, padding=padding,\n",
        "            use_bias=False, name=conv_name)(x)\n",
        "    if normalizer:\n",
        "        x = BatchNormalization(axis=bn_axis, scale=False, name=bn_name)(x)\n",
        "    if activation:\n",
        "        x = Activation(activation, name=act_name)(x)\n",
        "    return x"
      ],
      "execution_count": 2,
      "outputs": []
    },
    {
      "cell_type": "markdown",
      "metadata": {
        "id": "Jcu31Y0VZQgs",
        "colab_type": "text"
      },
      "source": [
        "## 參考上圖搭建 InceptionV1_block"
      ]
    },
    {
      "cell_type": "code",
      "metadata": {
        "id": "Yav4thWtZQgs",
        "colab_type": "code",
        "colab": {}
      },
      "source": [
        "def InceptionV1_block(x, specs,channel_axis, name):\n",
        "    (br0, br1, br2, br3) = specs   # ((64,), (96,128), (16,32), (32,))\n",
        "    branch_0 = Conv2d_bn(x, br0[0], (1, 1), name=name+\"_Branch_0\")  # 第一個分支為64個 1X1kernels\n",
        "\n",
        "    branch_1 = Conv2d_bn(x, br1[0], (1, 1), name=name+\"_Branch_1\") # 第二個分支為96個 1X1kernel\n",
        "    branch_1 = Conv2d_bn(branch_1, br1[1], (3, 3), name=name+\"_Branch_1_1\") # 第二個分支的第二層為128個 3X3kernels\n",
        "\n",
        "    '''Branch_2'''\n",
        "    # 第三個分支為16個 1X1kernel\n",
        "    branch_2 = Conv2d_bn(x, br2[0], (1, 1), name=name+'_Branch_2') # 第三個分支為16個 1X1kernel\n",
        "    branch_2 = Conv2d_bn(branch_2, br2[1], (5,5), name=name+'_Branch_2_2') # 第三個分支的第二層為32個5X5 kernels\n",
        "\n",
        "    '''Branch_3'''\n",
        "    branch_3 = MaxPooling2D((3,3), strides=(1,1), padding='same', name=name+'_Branch_3')(x)\n",
        "    branch_3 = Conv2d_bn(branch_3, br3[0], (1,1), name=name+'_Branch_3_2')\n",
        "\n",
        "\n",
        "    x = layers.concatenate(\n",
        "        [branch_0, branch_1, branch_2, branch_3],\n",
        "        axis=channel_axis,\n",
        "        name=name+\"_Concatenated\")\n",
        "    return x"
      ],
      "execution_count": 26,
      "outputs": []
    },
    {
      "cell_type": "markdown",
      "metadata": {
        "id": "9xMRdGvbZQgv",
        "colab_type": "text"
      },
      "source": [
        "## 測試"
      ]
    },
    {
      "cell_type": "code",
      "metadata": {
        "id": "BIVECmuEZQgv",
        "colab_type": "code",
        "colab": {
          "base_uri": "https://localhost:8080/",
          "height": 54
        },
        "outputId": "8453d743-bc2f-4398-ffcc-c02e8418aec5"
      },
      "source": [
        "img_input = Input(shape=(224,224,1))\n",
        "x=InceptionV1_block(img_input, ((64,), (96,128), (16,32), (32,)), 3, 'Block_1')\n",
        "print(x)"
      ],
      "execution_count": 29,
      "outputs": [
        {
          "output_type": "stream",
          "text": [
            "Tensor(\"Block_1_Concatenated_3/concat:0\", shape=(None, 224, 224, 256), dtype=float32)\n"
          ],
          "name": "stdout"
        }
      ]
    },
    {
      "cell_type": "markdown",
      "metadata": {
        "id": "j8KPO0IWZQgx",
        "colab_type": "text"
      },
      "source": [
        "## 將 InceptionV1_block中n*n卷積改為1 x n+n x 1"
      ]
    },
    {
      "cell_type": "code",
      "metadata": {
        "id": "QSKsB2nNZQgy",
        "colab_type": "code",
        "colab": {}
      },
      "source": [
        "def InceptionV3_block(x, specs,channel_axis, name):\n",
        "    (br0, br1, br2, br3) = specs   # ((64,), (96,128), (16,32), (32,))\n",
        "    branch_0 = Conv2d_bn(x, br0[0], (1, 1), name=name+\"_Branch_0\")\n",
        "\n",
        "    branch_1 = Conv2d_bn(x, br1[0], (1, 1), name=name+\"_Branch_1\")\n",
        "    branch_1 = Conv2d_bn(branch_1, br1[1], (1, 3), name=name+\"_Branch_1_1\")\n",
        "    branch_1 = Conv2d_bn(branch_1, br1[1], (3, 1), name=name+\"_Branch_1_2\")\n",
        "\n",
        "    '''Branch_2'''\n",
        "    branch_2 = Conv2d_bn(x, br2[0], (1,1), name=name+'_Branch_2')\n",
        "    branch_2 = Conv2d_bn(branch_2, br2[1], (1,5), name=name+'_Branch_2_1')\n",
        "    branch_2 = Conv2d_bn(branch_2, br2[1], (5,1), name=name+'_Branch_2_2')\n",
        "\n",
        "    '''Branch_3'''\n",
        "    branch_3 = MaxPooling2D((3,3), strides=(1,1), padding='same', name=name+'_Branch_3')(x)\n",
        "    branch_3 = Conv2d_bn(branch_3, br3[0], (1,1), name=name+'_Branch_3_1')\n",
        "\n",
        "    x = layers.concatenate(\n",
        "        [branch_0, branch_1, branch_2, branch_3],\n",
        "        axis=channel_axis,\n",
        "        name=name+\"_Concatenated\")\n",
        "    return x"
      ],
      "execution_count": 27,
      "outputs": []
    },
    {
      "cell_type": "markdown",
      "metadata": {
        "id": "5UXlBCtFZQg0",
        "colab_type": "text"
      },
      "source": [
        "## 測試"
      ]
    },
    {
      "cell_type": "code",
      "metadata": {
        "id": "wMq0uS6qZQg0",
        "colab_type": "code",
        "colab": {
          "base_uri": "https://localhost:8080/",
          "height": 54
        },
        "outputId": "5a69a1b2-0ba6-4410-8fc0-a9e26cb3d6cd"
      },
      "source": [
        "img_input = Input(shape=(224,224,1))\n",
        "x=InceptionV3_block(img_input, ((64,), (96,128), (16,32), (32,)), 3, 'Block_1')\n",
        "print(x)"
      ],
      "execution_count": 28,
      "outputs": [
        {
          "output_type": "stream",
          "text": [
            "Tensor(\"Block_1_Concatenated_2/concat:0\", shape=(None, 224, 224, 256), dtype=float32)\n"
          ],
          "name": "stdout"
        }
      ]
    },
    {
      "cell_type": "markdown",
      "metadata": {
        "id": "S99gIA-8ZQg3",
        "colab_type": "text"
      },
      "source": [
        "---"
      ]
    },
    {
      "cell_type": "markdown",
      "metadata": {
        "id": "34k3r6x3ZQg3",
        "colab_type": "text"
      },
      "source": [
        "## 額外練習"
      ]
    },
    {
      "cell_type": "markdown",
      "metadata": {
        "id": "LHWkcaCIZQg4",
        "colab_type": "text"
      },
      "source": [
        "## 將VGG16 Block_3中的Convolution全部改為InceptionV1_block\n",
        "## Block_5中的Convolution全部改為InceptionV3_block\n",
        "## 並將所有Convolution改為Conv2d_bn"
      ]
    },
    {
      "cell_type": "markdown",
      "metadata": {
        "id": "adbE2X1kZQg4",
        "colab_type": "text"
      },
      "source": [
        "#### 原vgg16架構"
      ]
    },
    {
      "cell_type": "code",
      "metadata": {
        "id": "E2-eGuczZQg4",
        "colab_type": "code",
        "colab": {}
      },
      "source": [
        "\n",
        "\n",
        "def VGG16(include_top=True,input_tensor=None, input_shape=(224,224,1),\n",
        "          pooling='max',classes=1000):\n",
        " \n",
        "    img_input = Input(shape=input_shape)\n",
        "\n",
        "    x = Conv2D(64, (3, 3), activation='relu', padding='same', name='block1_conv1')(img_input)\n",
        "    x = Conv2D(64, (3, 3), activation='relu', padding='same', name='block1_conv2')(x)\n",
        "    x = MaxPooling2D((2, 2), strides=(2, 2), name='block1_pool')(x)\n",
        "\n",
        "    # Block 2\n",
        "    x = Conv2D(128, (3, 3), activation='relu', padding='same', name='block2_conv1')(x)\n",
        "    x = Conv2D(128, (3, 3), activation='relu', padding='same', name='block2_conv2')(x)\n",
        "    x = MaxPooling2D((2, 2), strides=(2, 2), name='block2_pool')(x)\n",
        "\n",
        "    # Block 3\n",
        "    x = Conv2D(256, (3, 3), activation='relu', padding='same', name='block3_conv1')(x)\n",
        "    x = Conv2D(256, (3, 3), activation='relu', padding='same', name='block3_conv2')(x)\n",
        "    x = Conv2D(256, (3, 3), activation='relu', padding='same', name='block3_conv3')(x)\n",
        "    x = MaxPooling2D((2, 2), strides=(2, 2), name='block3_pool')(x)\n",
        "\n",
        "    # Block 4\n",
        "    x = Conv2D(512, (3, 3), activation='relu', padding='same', name='block4_conv1')(x)\n",
        "    x = Conv2D(512, (3, 3), activation='relu', padding='same', name='block4_conv2')(x)\n",
        "    x = Conv2D(512, (3, 3), activation='relu', padding='same', name='block4_conv3')(x)\n",
        "    x = MaxPooling2D((2, 2), strides=(2, 2), name='block4_pool')(x)\n",
        "\n",
        "    # Block 5\n",
        "    x = Conv2D(512, (3, 3), activation='relu', padding='same', name='block5_conv1')(x)\n",
        "    x = Conv2D(512, (3, 3), activation='relu', padding='same', name='block5_conv2')(x)\n",
        "    x = Conv2D(512, (3, 3), activation='relu', padding='same', name='block5_conv3')(x)\n",
        "    x = MaxPooling2D((2, 2), strides=(2, 2), name='block5_pool')(x)\n",
        "\n",
        "    if include_top:\n",
        "        # Classification block\n",
        "        x = Flatten(name='flatten')(x)\n",
        "        x = Dense(4096, activation='relu', name='fc1')(x)\n",
        "        x = Dense(4096, activation='relu', name='fc2')(x)\n",
        "        x = Dense(classes, activation='softmax', name='predictions')(x)\n",
        "    else:\n",
        "        if pooling == 'avg':\n",
        "            x = GlobalAveragePooling2D()(x)\n",
        "        elif pooling == 'max':\n",
        "            x = GlobalMaxPooling2D()(x)\n",
        "\n",
        "    inputs = img_input\n",
        "    # Create model.\n",
        "    model = Model(inputs, x, name='vgg16')\n",
        "\n",
        "   \n",
        "    return model\n",
        "\n"
      ],
      "execution_count": null,
      "outputs": []
    },
    {
      "cell_type": "markdown",
      "metadata": {
        "id": "cjox1qWSZQg8",
        "colab_type": "text"
      },
      "source": [
        "#### 修改後"
      ]
    },
    {
      "cell_type": "code",
      "metadata": {
        "id": "HLn14ZL6ZQg8",
        "colab_type": "code",
        "colab": {}
      },
      "source": [
        "def VGG16_Inception(include_top=True,input_tensor=None, input_shape=(224,224,1),\n",
        "          pooling='max',classes=1000):\n",
        " \n",
        "    '''修改模型'''\n",
        "    \n",
        "    img_input = Input(shape=input_shape)\n",
        "\n",
        "    x = Conv2d_bn(img_input, 64, (3, 3), activation='relu', padding='same', name='block1_conv1')\n",
        "    x = Conv2d_bn(x, 64, (3, 3), activation='relu', padding='same', name='block1_conv2')\n",
        "    x = MaxPooling2D((2, 2), strides=(2, 2), name='block1_pool')(x)\n",
        "\n",
        "    # Block 2\n",
        "    x = Conv2d_bn(x, 128, (3, 3), activation='relu', padding='same', name='block2_conv1')\n",
        "    x = Conv2d_bn(x, 128, (3, 3), activation='relu', padding='same', name='block2_conv2')\n",
        "    x = MaxPooling2D((2, 2), strides=(2, 2), name='block2_pool')(x)\n",
        "\n",
        "    # Block 3\n",
        "    x = InceptionV1_block(x,((64,), (96,128), (16,32), (32,)), 3, name='block3_1')\n",
        "    x = InceptionV1_block(x,((64,), (96,128), (16,32), (32,)), 3, name='block3_2')\n",
        "    x = InceptionV1_block(x,((64,), (96,128), (16,32), (32,)), 3, name='block3_3')\n",
        "    x = MaxPooling2D((2, 2), strides=(2, 2), name='block3_pool')(x)\n",
        "\n",
        "    # Block 4\n",
        "    x = Conv2d_bn(x, 512, (3, 3), activation='relu', padding='same', name='block4_conv1')\n",
        "    x = Conv2d_bn(x, 512, (3, 3), activation='relu', padding='same', name='block4_conv2')\n",
        "    x = Conv2d_bn(x, 512, (3, 3), activation='relu', padding='same', name='block4_conv3')\n",
        "    x = MaxPooling2D((2, 2), strides=(2, 2), name='block4_pool')(x)\n",
        "\n",
        "    # Block 5\n",
        "    x = InceptionV3_block(x, ((128,), (192,256),(32,64), (64,)),3, name='block5_1')\n",
        "    x = InceptionV3_block(x, ((128,), (192,256),(32,64), (64,)),3, name='block5_2')\n",
        "    x = InceptionV3_block(x, ((128,), (192,256),(32,64), (64,)),3, name='block5_3')\n",
        "    x = MaxPooling2D((2, 2), strides=(2, 2), name='block5_pool')(x)\n",
        "\n",
        "    if include_top:\n",
        "        # Classification block\n",
        "        x = Flatten(name='flatten')(x)\n",
        "        x = Dense(4096, activation='relu', name='fc1')(x)\n",
        "        x = Dense(4096, activation='relu', name='fc2')(x)\n",
        "        x = Dense(classes, activation='softmax', name='predictions')(x)\n",
        "    else:\n",
        "        if pooling == 'avg':\n",
        "            x = GlobalAveragePooling2D()(x)\n",
        "        elif pooling == 'max':\n",
        "            x = GlobalMaxPooling2D()(x)\n",
        "\n",
        "    inputs = img_input\n",
        "    # Create model.\n",
        "    model = Model(inputs, x, name='vgg16')\n",
        "   \n",
        "    return model\n",
        "\n"
      ],
      "execution_count": 30,
      "outputs": []
    },
    {
      "cell_type": "code",
      "metadata": {
        "id": "Q6q35EvWZQg-",
        "colab_type": "code",
        "colab": {}
      },
      "source": [
        "model = VGG16_Inception(include_top=False)"
      ],
      "execution_count": 31,
      "outputs": []
    },
    {
      "cell_type": "code",
      "metadata": {
        "id": "bD9pOHiFZQhA",
        "colab_type": "code",
        "colab": {
          "base_uri": "https://localhost:8080/",
          "height": 1000
        },
        "outputId": "ca36b7ab-7735-41e6-ea02-61268540ae09"
      },
      "source": [
        "model.summary()"
      ],
      "execution_count": 32,
      "outputs": [
        {
          "output_type": "stream",
          "text": [
            "Model: \"vgg16\"\n",
            "__________________________________________________________________________________________________\n",
            "Layer (type)                    Output Shape         Param #     Connected to                     \n",
            "==================================================================================================\n",
            "input_12 (InputLayer)           (None, 224, 224, 1)  0                                            \n",
            "__________________________________________________________________________________________________\n",
            "block1_conv1_conv (Conv2D)      (None, 224, 224, 64) 576         input_12[0][0]                   \n",
            "__________________________________________________________________________________________________\n",
            "block1_conv1_bn (BatchNormaliza (None, 224, 224, 64) 192         block1_conv1_conv[0][0]          \n",
            "__________________________________________________________________________________________________\n",
            "block1_conv1_act (Activation)   (None, 224, 224, 64) 0           block1_conv1_bn[0][0]            \n",
            "__________________________________________________________________________________________________\n",
            "block1_conv2_conv (Conv2D)      (None, 224, 224, 64) 36864       block1_conv1_act[0][0]           \n",
            "__________________________________________________________________________________________________\n",
            "block1_conv2_bn (BatchNormaliza (None, 224, 224, 64) 192         block1_conv2_conv[0][0]          \n",
            "__________________________________________________________________________________________________\n",
            "block1_conv2_act (Activation)   (None, 224, 224, 64) 0           block1_conv2_bn[0][0]            \n",
            "__________________________________________________________________________________________________\n",
            "block1_pool (MaxPooling2D)      (None, 112, 112, 64) 0           block1_conv2_act[0][0]           \n",
            "__________________________________________________________________________________________________\n",
            "block2_conv1_conv (Conv2D)      (None, 112, 112, 128 73728       block1_pool[0][0]                \n",
            "__________________________________________________________________________________________________\n",
            "block2_conv1_bn (BatchNormaliza (None, 112, 112, 128 384         block2_conv1_conv[0][0]          \n",
            "__________________________________________________________________________________________________\n",
            "block2_conv1_act (Activation)   (None, 112, 112, 128 0           block2_conv1_bn[0][0]            \n",
            "__________________________________________________________________________________________________\n",
            "block2_conv2_conv (Conv2D)      (None, 112, 112, 128 147456      block2_conv1_act[0][0]           \n",
            "__________________________________________________________________________________________________\n",
            "block2_conv2_bn (BatchNormaliza (None, 112, 112, 128 384         block2_conv2_conv[0][0]          \n",
            "__________________________________________________________________________________________________\n",
            "block2_conv2_act (Activation)   (None, 112, 112, 128 0           block2_conv2_bn[0][0]            \n",
            "__________________________________________________________________________________________________\n",
            "block2_pool (MaxPooling2D)      (None, 56, 56, 128)  0           block2_conv2_act[0][0]           \n",
            "__________________________________________________________________________________________________\n",
            "block3_1_Branch_1_conv (Conv2D) (None, 56, 56, 96)   12288       block2_pool[0][0]                \n",
            "__________________________________________________________________________________________________\n",
            "block3_1_Branch_2_conv (Conv2D) (None, 56, 56, 16)   2048        block2_pool[0][0]                \n",
            "__________________________________________________________________________________________________\n",
            "block3_1_Branch_1_bn (BatchNorm (None, 56, 56, 96)   288         block3_1_Branch_1_conv[0][0]     \n",
            "__________________________________________________________________________________________________\n",
            "block3_1_Branch_2_bn (BatchNorm (None, 56, 56, 16)   48          block3_1_Branch_2_conv[0][0]     \n",
            "__________________________________________________________________________________________________\n",
            "block3_1_Branch_1_act (Activati (None, 56, 56, 96)   0           block3_1_Branch_1_bn[0][0]       \n",
            "__________________________________________________________________________________________________\n",
            "block3_1_Branch_2_act (Activati (None, 56, 56, 16)   0           block3_1_Branch_2_bn[0][0]       \n",
            "__________________________________________________________________________________________________\n",
            "block3_1_Branch_3 (MaxPooling2D (None, 56, 56, 128)  0           block2_pool[0][0]                \n",
            "__________________________________________________________________________________________________\n",
            "block3_1_Branch_0_conv (Conv2D) (None, 56, 56, 64)   8192        block2_pool[0][0]                \n",
            "__________________________________________________________________________________________________\n",
            "block3_1_Branch_1_1_conv (Conv2 (None, 56, 56, 128)  110592      block3_1_Branch_1_act[0][0]      \n",
            "__________________________________________________________________________________________________\n",
            "block3_1_Branch_2_2_conv (Conv2 (None, 56, 56, 32)   12800       block3_1_Branch_2_act[0][0]      \n",
            "__________________________________________________________________________________________________\n",
            "block3_1_Branch_3_2_conv (Conv2 (None, 56, 56, 32)   4096        block3_1_Branch_3[0][0]          \n",
            "__________________________________________________________________________________________________\n",
            "block3_1_Branch_0_bn (BatchNorm (None, 56, 56, 64)   192         block3_1_Branch_0_conv[0][0]     \n",
            "__________________________________________________________________________________________________\n",
            "block3_1_Branch_1_1_bn (BatchNo (None, 56, 56, 128)  384         block3_1_Branch_1_1_conv[0][0]   \n",
            "__________________________________________________________________________________________________\n",
            "block3_1_Branch_2_2_bn (BatchNo (None, 56, 56, 32)   96          block3_1_Branch_2_2_conv[0][0]   \n",
            "__________________________________________________________________________________________________\n",
            "block3_1_Branch_3_2_bn (BatchNo (None, 56, 56, 32)   96          block3_1_Branch_3_2_conv[0][0]   \n",
            "__________________________________________________________________________________________________\n",
            "block3_1_Branch_0_act (Activati (None, 56, 56, 64)   0           block3_1_Branch_0_bn[0][0]       \n",
            "__________________________________________________________________________________________________\n",
            "block3_1_Branch_1_1_act (Activa (None, 56, 56, 128)  0           block3_1_Branch_1_1_bn[0][0]     \n",
            "__________________________________________________________________________________________________\n",
            "block3_1_Branch_2_2_act (Activa (None, 56, 56, 32)   0           block3_1_Branch_2_2_bn[0][0]     \n",
            "__________________________________________________________________________________________________\n",
            "block3_1_Branch_3_2_act (Activa (None, 56, 56, 32)   0           block3_1_Branch_3_2_bn[0][0]     \n",
            "__________________________________________________________________________________________________\n",
            "block3_1_Concatenated (Concaten (None, 56, 56, 256)  0           block3_1_Branch_0_act[0][0]      \n",
            "                                                                 block3_1_Branch_1_1_act[0][0]    \n",
            "                                                                 block3_1_Branch_2_2_act[0][0]    \n",
            "                                                                 block3_1_Branch_3_2_act[0][0]    \n",
            "__________________________________________________________________________________________________\n",
            "block3_2_Branch_1_conv (Conv2D) (None, 56, 56, 96)   24576       block3_1_Concatenated[0][0]      \n",
            "__________________________________________________________________________________________________\n",
            "block3_2_Branch_2_conv (Conv2D) (None, 56, 56, 16)   4096        block3_1_Concatenated[0][0]      \n",
            "__________________________________________________________________________________________________\n",
            "block3_2_Branch_1_bn (BatchNorm (None, 56, 56, 96)   288         block3_2_Branch_1_conv[0][0]     \n",
            "__________________________________________________________________________________________________\n",
            "block3_2_Branch_2_bn (BatchNorm (None, 56, 56, 16)   48          block3_2_Branch_2_conv[0][0]     \n",
            "__________________________________________________________________________________________________\n",
            "block3_2_Branch_1_act (Activati (None, 56, 56, 96)   0           block3_2_Branch_1_bn[0][0]       \n",
            "__________________________________________________________________________________________________\n",
            "block3_2_Branch_2_act (Activati (None, 56, 56, 16)   0           block3_2_Branch_2_bn[0][0]       \n",
            "__________________________________________________________________________________________________\n",
            "block3_2_Branch_3 (MaxPooling2D (None, 56, 56, 256)  0           block3_1_Concatenated[0][0]      \n",
            "__________________________________________________________________________________________________\n",
            "block3_2_Branch_0_conv (Conv2D) (None, 56, 56, 64)   16384       block3_1_Concatenated[0][0]      \n",
            "__________________________________________________________________________________________________\n",
            "block3_2_Branch_1_1_conv (Conv2 (None, 56, 56, 128)  110592      block3_2_Branch_1_act[0][0]      \n",
            "__________________________________________________________________________________________________\n",
            "block3_2_Branch_2_2_conv (Conv2 (None, 56, 56, 32)   12800       block3_2_Branch_2_act[0][0]      \n",
            "__________________________________________________________________________________________________\n",
            "block3_2_Branch_3_2_conv (Conv2 (None, 56, 56, 32)   8192        block3_2_Branch_3[0][0]          \n",
            "__________________________________________________________________________________________________\n",
            "block3_2_Branch_0_bn (BatchNorm (None, 56, 56, 64)   192         block3_2_Branch_0_conv[0][0]     \n",
            "__________________________________________________________________________________________________\n",
            "block3_2_Branch_1_1_bn (BatchNo (None, 56, 56, 128)  384         block3_2_Branch_1_1_conv[0][0]   \n",
            "__________________________________________________________________________________________________\n",
            "block3_2_Branch_2_2_bn (BatchNo (None, 56, 56, 32)   96          block3_2_Branch_2_2_conv[0][0]   \n",
            "__________________________________________________________________________________________________\n",
            "block3_2_Branch_3_2_bn (BatchNo (None, 56, 56, 32)   96          block3_2_Branch_3_2_conv[0][0]   \n",
            "__________________________________________________________________________________________________\n",
            "block3_2_Branch_0_act (Activati (None, 56, 56, 64)   0           block3_2_Branch_0_bn[0][0]       \n",
            "__________________________________________________________________________________________________\n",
            "block3_2_Branch_1_1_act (Activa (None, 56, 56, 128)  0           block3_2_Branch_1_1_bn[0][0]     \n",
            "__________________________________________________________________________________________________\n",
            "block3_2_Branch_2_2_act (Activa (None, 56, 56, 32)   0           block3_2_Branch_2_2_bn[0][0]     \n",
            "__________________________________________________________________________________________________\n",
            "block3_2_Branch_3_2_act (Activa (None, 56, 56, 32)   0           block3_2_Branch_3_2_bn[0][0]     \n",
            "__________________________________________________________________________________________________\n",
            "block3_2_Concatenated (Concaten (None, 56, 56, 256)  0           block3_2_Branch_0_act[0][0]      \n",
            "                                                                 block3_2_Branch_1_1_act[0][0]    \n",
            "                                                                 block3_2_Branch_2_2_act[0][0]    \n",
            "                                                                 block3_2_Branch_3_2_act[0][0]    \n",
            "__________________________________________________________________________________________________\n",
            "block3_3_Branch_1_conv (Conv2D) (None, 56, 56, 96)   24576       block3_2_Concatenated[0][0]      \n",
            "__________________________________________________________________________________________________\n",
            "block3_3_Branch_2_conv (Conv2D) (None, 56, 56, 16)   4096        block3_2_Concatenated[0][0]      \n",
            "__________________________________________________________________________________________________\n",
            "block3_3_Branch_1_bn (BatchNorm (None, 56, 56, 96)   288         block3_3_Branch_1_conv[0][0]     \n",
            "__________________________________________________________________________________________________\n",
            "block3_3_Branch_2_bn (BatchNorm (None, 56, 56, 16)   48          block3_3_Branch_2_conv[0][0]     \n",
            "__________________________________________________________________________________________________\n",
            "block3_3_Branch_1_act (Activati (None, 56, 56, 96)   0           block3_3_Branch_1_bn[0][0]       \n",
            "__________________________________________________________________________________________________\n",
            "block3_3_Branch_2_act (Activati (None, 56, 56, 16)   0           block3_3_Branch_2_bn[0][0]       \n",
            "__________________________________________________________________________________________________\n",
            "block3_3_Branch_3 (MaxPooling2D (None, 56, 56, 256)  0           block3_2_Concatenated[0][0]      \n",
            "__________________________________________________________________________________________________\n",
            "block3_3_Branch_0_conv (Conv2D) (None, 56, 56, 64)   16384       block3_2_Concatenated[0][0]      \n",
            "__________________________________________________________________________________________________\n",
            "block3_3_Branch_1_1_conv (Conv2 (None, 56, 56, 128)  110592      block3_3_Branch_1_act[0][0]      \n",
            "__________________________________________________________________________________________________\n",
            "block3_3_Branch_2_2_conv (Conv2 (None, 56, 56, 32)   12800       block3_3_Branch_2_act[0][0]      \n",
            "__________________________________________________________________________________________________\n",
            "block3_3_Branch_3_2_conv (Conv2 (None, 56, 56, 32)   8192        block3_3_Branch_3[0][0]          \n",
            "__________________________________________________________________________________________________\n",
            "block3_3_Branch_0_bn (BatchNorm (None, 56, 56, 64)   192         block3_3_Branch_0_conv[0][0]     \n",
            "__________________________________________________________________________________________________\n",
            "block3_3_Branch_1_1_bn (BatchNo (None, 56, 56, 128)  384         block3_3_Branch_1_1_conv[0][0]   \n",
            "__________________________________________________________________________________________________\n",
            "block3_3_Branch_2_2_bn (BatchNo (None, 56, 56, 32)   96          block3_3_Branch_2_2_conv[0][0]   \n",
            "__________________________________________________________________________________________________\n",
            "block3_3_Branch_3_2_bn (BatchNo (None, 56, 56, 32)   96          block3_3_Branch_3_2_conv[0][0]   \n",
            "__________________________________________________________________________________________________\n",
            "block3_3_Branch_0_act (Activati (None, 56, 56, 64)   0           block3_3_Branch_0_bn[0][0]       \n",
            "__________________________________________________________________________________________________\n",
            "block3_3_Branch_1_1_act (Activa (None, 56, 56, 128)  0           block3_3_Branch_1_1_bn[0][0]     \n",
            "__________________________________________________________________________________________________\n",
            "block3_3_Branch_2_2_act (Activa (None, 56, 56, 32)   0           block3_3_Branch_2_2_bn[0][0]     \n",
            "__________________________________________________________________________________________________\n",
            "block3_3_Branch_3_2_act (Activa (None, 56, 56, 32)   0           block3_3_Branch_3_2_bn[0][0]     \n",
            "__________________________________________________________________________________________________\n",
            "block3_3_Concatenated (Concaten (None, 56, 56, 256)  0           block3_3_Branch_0_act[0][0]      \n",
            "                                                                 block3_3_Branch_1_1_act[0][0]    \n",
            "                                                                 block3_3_Branch_2_2_act[0][0]    \n",
            "                                                                 block3_3_Branch_3_2_act[0][0]    \n",
            "__________________________________________________________________________________________________\n",
            "block3_pool (MaxPooling2D)      (None, 28, 28, 256)  0           block3_3_Concatenated[0][0]      \n",
            "__________________________________________________________________________________________________\n",
            "block4_conv1_conv (Conv2D)      (None, 28, 28, 512)  1179648     block3_pool[0][0]                \n",
            "__________________________________________________________________________________________________\n",
            "block4_conv1_bn (BatchNormaliza (None, 28, 28, 512)  1536        block4_conv1_conv[0][0]          \n",
            "__________________________________________________________________________________________________\n",
            "block4_conv1_act (Activation)   (None, 28, 28, 512)  0           block4_conv1_bn[0][0]            \n",
            "__________________________________________________________________________________________________\n",
            "block4_conv2_conv (Conv2D)      (None, 28, 28, 512)  2359296     block4_conv1_act[0][0]           \n",
            "__________________________________________________________________________________________________\n",
            "block4_conv2_bn (BatchNormaliza (None, 28, 28, 512)  1536        block4_conv2_conv[0][0]          \n",
            "__________________________________________________________________________________________________\n",
            "block4_conv2_act (Activation)   (None, 28, 28, 512)  0           block4_conv2_bn[0][0]            \n",
            "__________________________________________________________________________________________________\n",
            "block4_conv3_conv (Conv2D)      (None, 28, 28, 512)  2359296     block4_conv2_act[0][0]           \n",
            "__________________________________________________________________________________________________\n",
            "block4_conv3_bn (BatchNormaliza (None, 28, 28, 512)  1536        block4_conv3_conv[0][0]          \n",
            "__________________________________________________________________________________________________\n",
            "block4_conv3_act (Activation)   (None, 28, 28, 512)  0           block4_conv3_bn[0][0]            \n",
            "__________________________________________________________________________________________________\n",
            "block4_pool (MaxPooling2D)      (None, 14, 14, 512)  0           block4_conv3_act[0][0]           \n",
            "__________________________________________________________________________________________________\n",
            "block5_1_Branch_1_conv (Conv2D) (None, 14, 14, 192)  98304       block4_pool[0][0]                \n",
            "__________________________________________________________________________________________________\n",
            "block5_1_Branch_2_conv (Conv2D) (None, 14, 14, 32)   16384       block4_pool[0][0]                \n",
            "__________________________________________________________________________________________________\n",
            "block5_1_Branch_1_bn (BatchNorm (None, 14, 14, 192)  576         block5_1_Branch_1_conv[0][0]     \n",
            "__________________________________________________________________________________________________\n",
            "block5_1_Branch_2_bn (BatchNorm (None, 14, 14, 32)   96          block5_1_Branch_2_conv[0][0]     \n",
            "__________________________________________________________________________________________________\n",
            "block5_1_Branch_1_act (Activati (None, 14, 14, 192)  0           block5_1_Branch_1_bn[0][0]       \n",
            "__________________________________________________________________________________________________\n",
            "block5_1_Branch_2_act (Activati (None, 14, 14, 32)   0           block5_1_Branch_2_bn[0][0]       \n",
            "__________________________________________________________________________________________________\n",
            "block5_1_Branch_1_1_conv (Conv2 (None, 14, 14, 256)  147456      block5_1_Branch_1_act[0][0]      \n",
            "__________________________________________________________________________________________________\n",
            "block5_1_Branch_2_1_conv (Conv2 (None, 14, 14, 64)   10240       block5_1_Branch_2_act[0][0]      \n",
            "__________________________________________________________________________________________________\n",
            "block5_1_Branch_1_1_bn (BatchNo (None, 14, 14, 256)  768         block5_1_Branch_1_1_conv[0][0]   \n",
            "__________________________________________________________________________________________________\n",
            "block5_1_Branch_2_1_bn (BatchNo (None, 14, 14, 64)   192         block5_1_Branch_2_1_conv[0][0]   \n",
            "__________________________________________________________________________________________________\n",
            "block5_1_Branch_1_1_act (Activa (None, 14, 14, 256)  0           block5_1_Branch_1_1_bn[0][0]     \n",
            "__________________________________________________________________________________________________\n",
            "block5_1_Branch_2_1_act (Activa (None, 14, 14, 64)   0           block5_1_Branch_2_1_bn[0][0]     \n",
            "__________________________________________________________________________________________________\n",
            "block5_1_Branch_3 (MaxPooling2D (None, 14, 14, 512)  0           block4_pool[0][0]                \n",
            "__________________________________________________________________________________________________\n",
            "block5_1_Branch_0_conv (Conv2D) (None, 14, 14, 128)  65536       block4_pool[0][0]                \n",
            "__________________________________________________________________________________________________\n",
            "block5_1_Branch_1_2_conv (Conv2 (None, 14, 14, 256)  196608      block5_1_Branch_1_1_act[0][0]    \n",
            "__________________________________________________________________________________________________\n",
            "block5_1_Branch_2_2_conv (Conv2 (None, 14, 14, 64)   20480       block5_1_Branch_2_1_act[0][0]    \n",
            "__________________________________________________________________________________________________\n",
            "block5_1_Branch_3_1_conv (Conv2 (None, 14, 14, 64)   32768       block5_1_Branch_3[0][0]          \n",
            "__________________________________________________________________________________________________\n",
            "block5_1_Branch_0_bn (BatchNorm (None, 14, 14, 128)  384         block5_1_Branch_0_conv[0][0]     \n",
            "__________________________________________________________________________________________________\n",
            "block5_1_Branch_1_2_bn (BatchNo (None, 14, 14, 256)  768         block5_1_Branch_1_2_conv[0][0]   \n",
            "__________________________________________________________________________________________________\n",
            "block5_1_Branch_2_2_bn (BatchNo (None, 14, 14, 64)   192         block5_1_Branch_2_2_conv[0][0]   \n",
            "__________________________________________________________________________________________________\n",
            "block5_1_Branch_3_1_bn (BatchNo (None, 14, 14, 64)   192         block5_1_Branch_3_1_conv[0][0]   \n",
            "__________________________________________________________________________________________________\n",
            "block5_1_Branch_0_act (Activati (None, 14, 14, 128)  0           block5_1_Branch_0_bn[0][0]       \n",
            "__________________________________________________________________________________________________\n",
            "block5_1_Branch_1_2_act (Activa (None, 14, 14, 256)  0           block5_1_Branch_1_2_bn[0][0]     \n",
            "__________________________________________________________________________________________________\n",
            "block5_1_Branch_2_2_act (Activa (None, 14, 14, 64)   0           block5_1_Branch_2_2_bn[0][0]     \n",
            "__________________________________________________________________________________________________\n",
            "block5_1_Branch_3_1_act (Activa (None, 14, 14, 64)   0           block5_1_Branch_3_1_bn[0][0]     \n",
            "__________________________________________________________________________________________________\n",
            "block5_1_Concatenated (Concaten (None, 14, 14, 512)  0           block5_1_Branch_0_act[0][0]      \n",
            "                                                                 block5_1_Branch_1_2_act[0][0]    \n",
            "                                                                 block5_1_Branch_2_2_act[0][0]    \n",
            "                                                                 block5_1_Branch_3_1_act[0][0]    \n",
            "__________________________________________________________________________________________________\n",
            "block5_2_Branch_1_conv (Conv2D) (None, 14, 14, 192)  98304       block5_1_Concatenated[0][0]      \n",
            "__________________________________________________________________________________________________\n",
            "block5_2_Branch_2_conv (Conv2D) (None, 14, 14, 32)   16384       block5_1_Concatenated[0][0]      \n",
            "__________________________________________________________________________________________________\n",
            "block5_2_Branch_1_bn (BatchNorm (None, 14, 14, 192)  576         block5_2_Branch_1_conv[0][0]     \n",
            "__________________________________________________________________________________________________\n",
            "block5_2_Branch_2_bn (BatchNorm (None, 14, 14, 32)   96          block5_2_Branch_2_conv[0][0]     \n",
            "__________________________________________________________________________________________________\n",
            "block5_2_Branch_1_act (Activati (None, 14, 14, 192)  0           block5_2_Branch_1_bn[0][0]       \n",
            "__________________________________________________________________________________________________\n",
            "block5_2_Branch_2_act (Activati (None, 14, 14, 32)   0           block5_2_Branch_2_bn[0][0]       \n",
            "__________________________________________________________________________________________________\n",
            "block5_2_Branch_1_1_conv (Conv2 (None, 14, 14, 256)  147456      block5_2_Branch_1_act[0][0]      \n",
            "__________________________________________________________________________________________________\n",
            "block5_2_Branch_2_1_conv (Conv2 (None, 14, 14, 64)   10240       block5_2_Branch_2_act[0][0]      \n",
            "__________________________________________________________________________________________________\n",
            "block5_2_Branch_1_1_bn (BatchNo (None, 14, 14, 256)  768         block5_2_Branch_1_1_conv[0][0]   \n",
            "__________________________________________________________________________________________________\n",
            "block5_2_Branch_2_1_bn (BatchNo (None, 14, 14, 64)   192         block5_2_Branch_2_1_conv[0][0]   \n",
            "__________________________________________________________________________________________________\n",
            "block5_2_Branch_1_1_act (Activa (None, 14, 14, 256)  0           block5_2_Branch_1_1_bn[0][0]     \n",
            "__________________________________________________________________________________________________\n",
            "block5_2_Branch_2_1_act (Activa (None, 14, 14, 64)   0           block5_2_Branch_2_1_bn[0][0]     \n",
            "__________________________________________________________________________________________________\n",
            "block5_2_Branch_3 (MaxPooling2D (None, 14, 14, 512)  0           block5_1_Concatenated[0][0]      \n",
            "__________________________________________________________________________________________________\n",
            "block5_2_Branch_0_conv (Conv2D) (None, 14, 14, 128)  65536       block5_1_Concatenated[0][0]      \n",
            "__________________________________________________________________________________________________\n",
            "block5_2_Branch_1_2_conv (Conv2 (None, 14, 14, 256)  196608      block5_2_Branch_1_1_act[0][0]    \n",
            "__________________________________________________________________________________________________\n",
            "block5_2_Branch_2_2_conv (Conv2 (None, 14, 14, 64)   20480       block5_2_Branch_2_1_act[0][0]    \n",
            "__________________________________________________________________________________________________\n",
            "block5_2_Branch_3_1_conv (Conv2 (None, 14, 14, 64)   32768       block5_2_Branch_3[0][0]          \n",
            "__________________________________________________________________________________________________\n",
            "block5_2_Branch_0_bn (BatchNorm (None, 14, 14, 128)  384         block5_2_Branch_0_conv[0][0]     \n",
            "__________________________________________________________________________________________________\n",
            "block5_2_Branch_1_2_bn (BatchNo (None, 14, 14, 256)  768         block5_2_Branch_1_2_conv[0][0]   \n",
            "__________________________________________________________________________________________________\n",
            "block5_2_Branch_2_2_bn (BatchNo (None, 14, 14, 64)   192         block5_2_Branch_2_2_conv[0][0]   \n",
            "__________________________________________________________________________________________________\n",
            "block5_2_Branch_3_1_bn (BatchNo (None, 14, 14, 64)   192         block5_2_Branch_3_1_conv[0][0]   \n",
            "__________________________________________________________________________________________________\n",
            "block5_2_Branch_0_act (Activati (None, 14, 14, 128)  0           block5_2_Branch_0_bn[0][0]       \n",
            "__________________________________________________________________________________________________\n",
            "block5_2_Branch_1_2_act (Activa (None, 14, 14, 256)  0           block5_2_Branch_1_2_bn[0][0]     \n",
            "__________________________________________________________________________________________________\n",
            "block5_2_Branch_2_2_act (Activa (None, 14, 14, 64)   0           block5_2_Branch_2_2_bn[0][0]     \n",
            "__________________________________________________________________________________________________\n",
            "block5_2_Branch_3_1_act (Activa (None, 14, 14, 64)   0           block5_2_Branch_3_1_bn[0][0]     \n",
            "__________________________________________________________________________________________________\n",
            "block5_2_Concatenated (Concaten (None, 14, 14, 512)  0           block5_2_Branch_0_act[0][0]      \n",
            "                                                                 block5_2_Branch_1_2_act[0][0]    \n",
            "                                                                 block5_2_Branch_2_2_act[0][0]    \n",
            "                                                                 block5_2_Branch_3_1_act[0][0]    \n",
            "__________________________________________________________________________________________________\n",
            "block5_3_Branch_1_conv (Conv2D) (None, 14, 14, 192)  98304       block5_2_Concatenated[0][0]      \n",
            "__________________________________________________________________________________________________\n",
            "block5_3_Branch_2_conv (Conv2D) (None, 14, 14, 32)   16384       block5_2_Concatenated[0][0]      \n",
            "__________________________________________________________________________________________________\n",
            "block5_3_Branch_1_bn (BatchNorm (None, 14, 14, 192)  576         block5_3_Branch_1_conv[0][0]     \n",
            "__________________________________________________________________________________________________\n",
            "block5_3_Branch_2_bn (BatchNorm (None, 14, 14, 32)   96          block5_3_Branch_2_conv[0][0]     \n",
            "__________________________________________________________________________________________________\n",
            "block5_3_Branch_1_act (Activati (None, 14, 14, 192)  0           block5_3_Branch_1_bn[0][0]       \n",
            "__________________________________________________________________________________________________\n",
            "block5_3_Branch_2_act (Activati (None, 14, 14, 32)   0           block5_3_Branch_2_bn[0][0]       \n",
            "__________________________________________________________________________________________________\n",
            "block5_3_Branch_1_1_conv (Conv2 (None, 14, 14, 256)  147456      block5_3_Branch_1_act[0][0]      \n",
            "__________________________________________________________________________________________________\n",
            "block5_3_Branch_2_1_conv (Conv2 (None, 14, 14, 64)   10240       block5_3_Branch_2_act[0][0]      \n",
            "__________________________________________________________________________________________________\n",
            "block5_3_Branch_1_1_bn (BatchNo (None, 14, 14, 256)  768         block5_3_Branch_1_1_conv[0][0]   \n",
            "__________________________________________________________________________________________________\n",
            "block5_3_Branch_2_1_bn (BatchNo (None, 14, 14, 64)   192         block5_3_Branch_2_1_conv[0][0]   \n",
            "__________________________________________________________________________________________________\n",
            "block5_3_Branch_1_1_act (Activa (None, 14, 14, 256)  0           block5_3_Branch_1_1_bn[0][0]     \n",
            "__________________________________________________________________________________________________\n",
            "block5_3_Branch_2_1_act (Activa (None, 14, 14, 64)   0           block5_3_Branch_2_1_bn[0][0]     \n",
            "__________________________________________________________________________________________________\n",
            "block5_3_Branch_3 (MaxPooling2D (None, 14, 14, 512)  0           block5_2_Concatenated[0][0]      \n",
            "__________________________________________________________________________________________________\n",
            "block5_3_Branch_0_conv (Conv2D) (None, 14, 14, 128)  65536       block5_2_Concatenated[0][0]      \n",
            "__________________________________________________________________________________________________\n",
            "block5_3_Branch_1_2_conv (Conv2 (None, 14, 14, 256)  196608      block5_3_Branch_1_1_act[0][0]    \n",
            "__________________________________________________________________________________________________\n",
            "block5_3_Branch_2_2_conv (Conv2 (None, 14, 14, 64)   20480       block5_3_Branch_2_1_act[0][0]    \n",
            "__________________________________________________________________________________________________\n",
            "block5_3_Branch_3_1_conv (Conv2 (None, 14, 14, 64)   32768       block5_3_Branch_3[0][0]          \n",
            "__________________________________________________________________________________________________\n",
            "block5_3_Branch_0_bn (BatchNorm (None, 14, 14, 128)  384         block5_3_Branch_0_conv[0][0]     \n",
            "__________________________________________________________________________________________________\n",
            "block5_3_Branch_1_2_bn (BatchNo (None, 14, 14, 256)  768         block5_3_Branch_1_2_conv[0][0]   \n",
            "__________________________________________________________________________________________________\n",
            "block5_3_Branch_2_2_bn (BatchNo (None, 14, 14, 64)   192         block5_3_Branch_2_2_conv[0][0]   \n",
            "__________________________________________________________________________________________________\n",
            "block5_3_Branch_3_1_bn (BatchNo (None, 14, 14, 64)   192         block5_3_Branch_3_1_conv[0][0]   \n",
            "__________________________________________________________________________________________________\n",
            "block5_3_Branch_0_act (Activati (None, 14, 14, 128)  0           block5_3_Branch_0_bn[0][0]       \n",
            "__________________________________________________________________________________________________\n",
            "block5_3_Branch_1_2_act (Activa (None, 14, 14, 256)  0           block5_3_Branch_1_2_bn[0][0]     \n",
            "__________________________________________________________________________________________________\n",
            "block5_3_Branch_2_2_act (Activa (None, 14, 14, 64)   0           block5_3_Branch_2_2_bn[0][0]     \n",
            "__________________________________________________________________________________________________\n",
            "block5_3_Branch_3_1_act (Activa (None, 14, 14, 64)   0           block5_3_Branch_3_1_bn[0][0]     \n",
            "__________________________________________________________________________________________________\n",
            "block5_3_Concatenated (Concaten (None, 14, 14, 512)  0           block5_3_Branch_0_act[0][0]      \n",
            "                                                                 block5_3_Branch_1_2_act[0][0]    \n",
            "                                                                 block5_3_Branch_2_2_act[0][0]    \n",
            "                                                                 block5_3_Branch_3_1_act[0][0]    \n",
            "__________________________________________________________________________________________________\n",
            "block5_pool (MaxPooling2D)      (None, 7, 7, 512)    0           block5_3_Concatenated[0][0]      \n",
            "__________________________________________________________________________________________________\n",
            "global_max_pooling2d_5 (GlobalM (None, 512)          0           block5_pool[0][0]                \n",
            "==================================================================================================\n",
            "Total params: 8,442,064\n",
            "Trainable params: 8,429,680\n",
            "Non-trainable params: 12,384\n",
            "__________________________________________________________________________________________________\n"
          ],
          "name": "stdout"
        }
      ]
    },
    {
      "cell_type": "code",
      "metadata": {
        "id": "z-lGCg2ASFak",
        "colab_type": "code",
        "colab": {}
      },
      "source": [
        ""
      ],
      "execution_count": null,
      "outputs": []
    }
  ]
}